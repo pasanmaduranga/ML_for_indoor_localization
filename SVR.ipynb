{
 "cells": [
  {
   "cell_type": "code",
   "execution_count": 1,
   "metadata": {},
   "outputs": [
    {
     "name": "stdout",
     "output_type": "stream",
     "text": [
      "Training MSE X 5489.0241819491985\n",
      "Testing MSE X 4963.460143192808\n",
      "Training MSE Y 4414.898851726243\n",
      "Testing MSE Y 4683.982657829282\n",
      "------------------------------------------------------------------------------------------\n",
      "X MSE:  5383.911374197921\n",
      "Y MSE:  4468.715612946851\n",
      "X r2  0.34642241613084634\n",
      "Y r2  0.49634156311378297\n"
     ]
    }
   ],
   "source": [
    "import numpy as np\n",
    "import pandas as pd\n",
    "from sklearn.model_selection import train_test_split\n",
    "from sklearn.svm import SVR\n",
    "from sklearn.metrics import r2_score,mean_squared_error\n",
    "\n",
    "data_frame = pd.read_csv(\"Data.csv\") \n",
    "\n",
    "\n",
    "input_data = data_frame[['RSSI1', 'RSSI2', 'RSSI3']]\n",
    "label_x = data_frame[['X_Actual']]\n",
    "label_y = data_frame[['Y_Actual']]\n",
    "\n",
    "label_x = label_x.values.ravel()\n",
    "label_y = label_y.values.ravel()\n",
    "\n",
    "# Split data into train and test to verify accuracy after fitting the model. \n",
    "input_x_train, input_x_test, label_x_train, label_x_test = train_test_split(input_data, label_x, test_size=0.2, random_state=40)\n",
    "input_y_train, input_y_test, label_y_train, label_y_test = train_test_split(input_data, label_y, test_size=0.2, random_state=40)\n",
    "\n",
    "\n",
    "# SVM model\n",
    "SVM_x_model = SVR()\n",
    "SVM_y_model = SVR()\n",
    "\n",
    "# Training\n",
    "SVM_x_model.fit(input_x_train, label_x_train)\n",
    "SVM_y_model.fit(input_y_train, label_y_train)\n",
    "\n",
    "# Prediction\n",
    "predict_x_train = SVM_x_model.predict(input_x_train)\n",
    "predict_x_test = SVM_x_model.predict(input_x_test)\n",
    "\n",
    "predict_y_train = SVM_y_model.predict(input_y_train)\n",
    "predict_y_test = SVM_y_model.predict(input_y_test)\n",
    "\n",
    "# Training and testing accuraciss\n",
    "print('Training MSE X', mean_squared_error(label_x_train, predict_x_train))\n",
    "print('Testing MSE X', mean_squared_error(label_x_test, predict_x_test))\n",
    "\n",
    "print('Training MSE Y', mean_squared_error(label_y_train, predict_y_train))\n",
    "print('Testing MSE Y', mean_squared_error(label_y_test, predict_y_test))\n",
    "\n",
    "\n",
    "# Dataset accuracy\n",
    "x_prediction = SVM_x_model.predict(input_data)\n",
    "y_prediction = SVM_y_model.predict(input_data)\n",
    "\n",
    "print('------------------------------------------------------------------------------------------')\n",
    "print('X MSE: ', mean_squared_error(label_x, x_prediction))\n",
    "print('Y MSE: ', mean_squared_error(label_y, y_prediction))\n",
    "\n",
    "print('X r2 ', r2_score(label_x, x_prediction))\n",
    "print('Y r2 ', r2_score(label_y, y_prediction))\n",
    "\n",
    "results = {'SVM_prediction_X':list(x_prediction), 'SVM_prediction_Y': list(y_prediction)}\n",
    "PR_results_df = pd.DataFrame(results, columns=['SVM_prediction_X', 'SVM_prediction_Y'])\n",
    "\n",
    "PR_results_df.to_csv('SVM_results.csv')"
   ]
  },
  {
   "cell_type": "code",
   "execution_count": null,
   "metadata": {},
   "outputs": [],
   "source": []
  }
 ],
 "metadata": {
  "kernelspec": {
   "display_name": "Python 3",
   "language": "python",
   "name": "python3"
  },
  "language_info": {
   "codemirror_mode": {
    "name": "ipython",
    "version": 3
   },
   "file_extension": ".py",
   "mimetype": "text/x-python",
   "name": "python",
   "nbconvert_exporter": "python",
   "pygments_lexer": "ipython3",
   "version": "3.8.5"
  }
 },
 "nbformat": 4,
 "nbformat_minor": 4
}
